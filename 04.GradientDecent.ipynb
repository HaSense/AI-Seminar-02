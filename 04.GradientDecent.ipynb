{
 "cells": [
  {
   "cell_type": "markdown",
   "metadata": {},
   "source": [
    "# 경사하강법 실습"
   ]
  },
  {
   "cell_type": "code",
   "execution_count": 1,
   "metadata": {},
   "outputs": [],
   "source": [
    "import numpy as np\n",
    "import pandas as pd\n",
    "import matplotlib.pyplot as plt"
   ]
  },
  {
   "cell_type": "code",
   "execution_count": 2,
   "metadata": {},
   "outputs": [],
   "source": [
    "#공부시간 X와 성적 Y의 리스트를 만듭니다.\n",
    "data = ([2,81], [4,93], [6,91], [8,97]) #공부시간, 실제성적\n",
    "x = [2, 4, 6, 8]\n",
    "y = [i[1] for i in data] #81, 93, 91, 97"
   ]
  },
  {
   "cell_type": "code",
   "execution_count": 3,
   "metadata": {},
   "outputs": [
    {
     "data": {
      "image/png": "[encoded data removed]",
      "text/plain": [
       "<Figure size 648x216 with 1 Axes>"
      ]
     },
     "metadata": {
      "needs_background": "light"
     },
     "output_type": "display_data"
    }
   ],
   "source": [
    "#그래프로 그리기\n",
    "plt.figure(figsize=(9,3)) #넓이, 높이\n",
    "plt.scatter(x,y) #산점도\n",
    "plt.show()"
   ]
  },
  {
   "cell_type": "code",
   "execution_count": 4,
   "metadata": {},
   "outputs": [],
   "source": [
    "#리스트로 되어있는 x와 y의 넘파이 배열로 바꾸어 줍니다. \n",
    "x_data = np.array(x) #기본적으로 파이썬은 리스트 --> 객체 , np.array --> 배열, 같은타입, 메모리, 속도\n",
    "y_data = np.array(y)"
   ]
  },
  {
   "cell_type": "code",
   "execution_count": 5,
   "metadata": {},
   "outputs": [],
   "source": [
    "#기울기 a와 절편 b의 값을 초기화 하자\n",
    "a = 0\n",
    "b = 0"
   ]
  },
  {
   "cell_type": "code",
   "execution_count": 6,
   "metadata": {},
   "outputs": [],
   "source": [
    "#학습률 \n",
    "#한번 학습할 때 얼마큼 이동할 것인가? \n",
    "lr = 0.01"
   ]
  },
  {
   "cell_type": "code",
   "execution_count": 7,
   "metadata": {},
   "outputs": [],
   "source": [
    "epoch = 10000"
   ]
  },
  {
   "cell_type": "code",
   "execution_count": 8,
   "metadata": {},
   "outputs": [
    {
     "name": "stdout",
     "output_type": "stream",
     "text": [
      "epoch=0, 기울기=4.6400, 절편=0.9050\n",
      "epoch=100, 기울기=13.1768, 절편=14.0920\n",
      "epoch=200, 기울기=11.5476, 절편=23.8144\n",
      "epoch=300, 기울기=10.1624, 절편=32.0806\n",
      "epoch=400, 기울기=8.9847, 절편=39.1086\n",
      "epoch=500, 기울기=7.9834, 절편=45.0838\n",
      "epoch=600, 기울기=7.1321, 절편=50.1641\n",
      "epoch=700, 기울기=6.4083, 절편=54.4834\n",
      "epoch=800, 기울기=5.7929, 절편=58.1557\n",
      "epoch=900, 기울기=5.2697, 절편=61.2779\n",
      "epoch=1000, 기울기=4.8249, 절편=63.9325\n",
      "epoch=1100, 기울기=4.4467, 절편=66.1894\n",
      "epoch=1200, 기울기=4.1251, 절편=68.1083\n",
      "epoch=1300, 기울기=3.8518, 절편=69.7397\n",
      "epoch=1400, 기울기=3.6193, 절편=71.1268\n",
      "epoch=1500, 기울기=3.4217, 절편=72.3061\n",
      "epoch=1600, 기울기=3.2537, 절편=73.3088\n",
      "epoch=1700, 기울기=3.1108, 절편=74.1613\n",
      "epoch=1800, 기울기=2.9894, 절편=74.8861\n",
      "epoch=1900, 기울기=2.8861, 절편=75.5023\n",
      "epoch=2000, 기울기=2.7983, 절편=76.0262\n",
      "epoch=2100, 기울기=2.7237, 절편=76.4716\n",
      "epoch=2200, 기울기=2.6602, 절편=76.8504\n",
      "epoch=2300, 기울기=2.6063, 절편=77.1723\n",
      "epoch=2400, 기울기=2.5604, 절편=77.4461\n",
      "epoch=2500, 기울기=2.5214, 절편=77.6789\n",
      "epoch=2600, 기울기=2.4882, 절편=77.8768\n",
      "epoch=2700, 기울기=2.4600, 절편=78.0450\n",
      "epoch=2800, 기울기=2.4361, 절편=78.1881\n",
      "epoch=2900, 기울기=2.4157, 절편=78.3097\n",
      "epoch=3000, 기울기=2.3984, 절편=78.4131\n",
      "epoch=3100, 기울기=2.3836, 절편=78.5010\n",
      "epoch=3200, 기울기=2.3711, 절편=78.5757\n",
      "epoch=3300, 기울기=2.3604, 절편=78.6393\n",
      "epoch=3400, 기울기=2.3514, 절편=78.6933\n",
      "epoch=3500, 기울기=2.3437, 절편=78.7393\n",
      "epoch=3600, 기울기=2.3371, 절편=78.7783\n",
      "epoch=3700, 기울기=2.3316, 절편=78.8115\n",
      "epoch=3800, 기울기=2.3269, 절편=78.8397\n",
      "epoch=3900, 기울기=2.3228, 절편=78.8638\n",
      "epoch=4000, 기울기=2.3194, 절편=78.8842\n",
      "epoch=4100, 기울기=2.3165, 절편=78.9015\n",
      "epoch=4200, 기울기=2.3140, 절편=78.9163\n",
      "epoch=4300, 기울기=2.3119, 절편=78.9288\n",
      "epoch=4400, 기울기=2.3101, 절편=78.9395\n",
      "epoch=4500, 기울기=2.3086, 절편=78.9485\n",
      "epoch=4600, 기울기=2.3073, 절편=78.9562\n",
      "epoch=4700, 기울기=2.3062, 절편=78.9628\n",
      "epoch=4800, 기울기=2.3053, 절편=78.9684\n",
      "epoch=4900, 기울기=2.3045, 절편=78.9731\n",
      "epoch=5000, 기울기=2.3038, 절편=78.9771\n",
      "epoch=5100, 기울기=2.3033, 절편=78.9806\n",
      "epoch=5200, 기울기=2.3028, 절편=78.9835\n",
      "epoch=5300, 기울기=2.3024, 절편=78.9859\n",
      "epoch=5400, 기울기=2.3020, 절편=78.9881\n",
      "epoch=5500, 기울기=2.3017, 절편=78.9898\n",
      "epoch=5600, 기울기=2.3014, 절편=78.9914\n",
      "epoch=5700, 기울기=2.3012, 절편=78.9927\n",
      "epoch=5800, 기울기=2.3010, 절편=78.9938\n",
      "epoch=5900, 기울기=2.3009, 절편=78.9947\n",
      "epoch=6000, 기울기=2.3008, 절편=78.9955\n",
      "epoch=6100, 기울기=2.3006, 절편=78.9962\n",
      "epoch=6200, 기울기=2.3005, 절편=78.9967\n",
      "epoch=6300, 기울기=2.3005, 절편=78.9972\n",
      "epoch=6400, 기울기=2.3004, 절편=78.9976\n",
      "epoch=6500, 기울기=2.3003, 절편=78.9980\n",
      "epoch=6600, 기울기=2.3003, 절편=78.9983\n",
      "epoch=6700, 기울기=2.3002, 절편=78.9986\n",
      "epoch=6800, 기울기=2.3002, 절편=78.9988\n",
      "epoch=6900, 기울기=2.3002, 절편=78.9990\n",
      "epoch=7000, 기울기=2.3001, 절편=78.9991\n",
      "epoch=7100, 기울기=2.3001, 절편=78.9992\n",
      "epoch=7200, 기울기=2.3001, 절편=78.9994\n",
      "epoch=7300, 기울기=2.3001, 절편=78.9995\n",
      "epoch=7400, 기울기=2.3001, 절편=78.9995\n",
      "epoch=7500, 기울기=2.3001, 절편=78.9996\n",
      "epoch=7600, 기울기=2.3001, 절편=78.9997\n",
      "epoch=7700, 기울기=2.3000, 절편=78.9997\n",
      "epoch=7800, 기울기=2.3000, 절편=78.9998\n",
      "epoch=7900, 기울기=2.3000, 절편=78.9998\n",
      "epoch=8000, 기울기=2.3000, 절편=78.9998\n",
      "epoch=8100, 기울기=2.3000, 절편=78.9999\n",
      "epoch=8200, 기울기=2.3000, 절편=78.9999\n",
      "epoch=8300, 기울기=2.3000, 절편=78.9999\n",
      "epoch=8400, 기울기=2.3000, 절편=78.9999\n",
      "epoch=8500, 기울기=2.3000, 절편=78.9999\n",
      "epoch=8600, 기울기=2.3000, 절편=78.9999\n",
      "epoch=8700, 기울기=2.3000, 절편=78.9999\n",
      "epoch=8800, 기울기=2.3000, 절편=79.0000\n",
      "epoch=8900, 기울기=2.3000, 절편=79.0000\n",
      "epoch=9000, 기울기=2.3000, 절편=79.0000\n",
      "epoch=9100, 기울기=2.3000, 절편=79.0000\n",
      "epoch=9200, 기울기=2.3000, 절편=79.0000\n",
      "epoch=9300, 기울기=2.3000, 절편=79.0000\n",
      "epoch=9400, 기울기=2.3000, 절편=79.0000\n",
      "epoch=9500, 기울기=2.3000, 절편=79.0000\n",
      "epoch=9600, 기울기=2.3000, 절편=79.0000\n",
      "epoch=9700, 기울기=2.3000, 절편=79.0000\n",
      "epoch=9800, 기울기=2.3000, 절편=79.0000\n",
      "epoch=9900, 기울기=2.3000, 절편=79.0000\n"
     ]
    }
   ],
   "source": [
    "#경사 하강법을 시작합시다.\n",
    "for i in range(epoch):\n",
    "    y_hat = a * x_data + b #y를 구하는 식을 세웁니다. , y_hat은 예측값  hyperthesis(가설)\n",
    "    error = y_data - y_hat #오차  error = 실제값 - 예측값\n",
    "    a_diff = -(1/len(x_data)) * sum(x_data * (error)) # 오차함수를 a로 미분한 값, a는 가중치, 기울기\n",
    "    b_diff = -(1/len(x_data)) * sum(error) #오차함수를 b로 미분한 값\n",
    "    a = a - (lr * a_diff) # 학습률을 곱해 기존의 a값을 업데이트합니다.\n",
    "    b = b - (lr * b_diff) # 학숩률을 곱해 기존의 b값을 업데이트합니다.\n",
    "    if i % 100 == 0 : #100번 반복할 때마다 현재의 a값, b값을 출력합니다.\n",
    "        print(\"epoch=%.f, 기울기=%.04f, 절편=%.04f\" % (i, a, b))\n",
    "    "
   ]
  },
  {
   "cell_type": "code",
   "execution_count": null,
   "metadata": {},
   "outputs": [],
   "source": []
  },
  {
   "cell_type": "code",
   "execution_count": null,
   "metadata": {},
   "outputs": [],
   "source": []
  }
 ],
 "metadata": {
  "kernelspec": {
   "display_name": "Python 3",
   "language": "python",
   "name": "python3"
  },
  "language_info": {
   "codemirror_mode": {
    "name": "ipython",
    "version": 3
   },
   "file_extension": ".py",
   "mimetype": "text/x-python",
   "name": "python",
   "nbconvert_exporter": "python",
   "pygments_lexer": "ipython3",
   "version": "3.7.6"
  }
 },
 "nbformat": 4,
 "nbformat_minor": 4
}

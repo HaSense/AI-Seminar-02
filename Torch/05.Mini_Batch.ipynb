{
 "cells": [
  {
   "cell_type": "code",
   "execution_count": 1,
   "metadata": {},
   "outputs": [],
   "source": [
    "import torch\n",
    "import torch.nn as nn\n",
    "import torch.nn.functional as F"
   ]
  },
  {
   "cell_type": "code",
   "execution_count": 2,
   "metadata": {},
   "outputs": [],
   "source": [
    "from torch.utils.data import TensorDataset # 텐서데이터셋\n",
    "from torch.utils.data import DataLoader # 데이터로더"
   ]
  },
  {
   "cell_type": "code",
   "execution_count": 3,
   "metadata": {},
   "outputs": [],
   "source": [
    "x_train  =  torch.FloatTensor([[73,  80,  75], \n",
    "                               [93,  88,  93], \n",
    "                               [89,  91,  90], \n",
    "                               [96,  98,  100],   \n",
    "                               [73,  66,  70]])  \n",
    "y_train  =  torch.FloatTensor([[152],  [185],  [180],  [196],  [142]])"
   ]
  },
  {
   "cell_type": "code",
   "execution_count": 4,
   "metadata": {},
   "outputs": [],
   "source": [
    "dataset = TensorDataset(x_train, y_train)"
   ]
  },
  {
   "cell_type": "code",
   "execution_count": 5,
   "metadata": {},
   "outputs": [],
   "source": [
    "dataloader = DataLoader(dataset, batch_size=2, shuffle=True)"
   ]
  },
  {
   "cell_type": "code",
   "execution_count": 6,
   "metadata": {},
   "outputs": [],
   "source": [
    "model = nn.Linear(3,1)\n",
    "optimizer = torch.optim.SGD(model.parameters(), lr=1e-5) "
   ]
  },
  {
   "cell_type": "code",
   "execution_count": 8,
   "metadata": {},
   "outputs": [
    {
     "name": "stdout",
     "output_type": "stream",
     "text": [
      "Epoch    0/40 Batch 1/3 Cost: 3.311733\n",
      "Epoch    0/40 Batch 2/3 Cost: 2.934572\n",
      "Epoch    0/40 Batch 3/3 Cost: 16.748547\n",
      "Epoch    1/40 Batch 1/3 Cost: 3.994465\n",
      "Epoch    1/40 Batch 2/3 Cost: 8.803737\n",
      "Epoch    1/40 Batch 3/3 Cost: 9.057862\n",
      "Epoch    2/40 Batch 1/3 Cost: 1.408701\n",
      "Epoch    2/40 Batch 2/3 Cost: 14.212046\n",
      "Epoch    2/40 Batch 3/3 Cost: 2.478933\n",
      "Epoch    3/40 Batch 1/3 Cost: 3.509309\n",
      "Epoch    3/40 Batch 2/3 Cost: 7.693403\n",
      "Epoch    3/40 Batch 3/3 Cost: 1.582860\n",
      "Epoch    4/40 Batch 1/3 Cost: 7.422347\n",
      "Epoch    4/40 Batch 2/3 Cost: 3.776694\n",
      "Epoch    4/40 Batch 3/3 Cost: 2.528816\n",
      "Epoch    5/40 Batch 1/3 Cost: 11.088602\n",
      "Epoch    5/40 Batch 2/3 Cost: 5.451476\n",
      "Epoch    5/40 Batch 3/3 Cost: 1.467811\n",
      "Epoch    6/40 Batch 1/3 Cost: 8.572330\n",
      "Epoch    6/40 Batch 2/3 Cost: 3.346089\n",
      "Epoch    6/40 Batch 3/3 Cost: 3.835289\n",
      "Epoch    7/40 Batch 1/3 Cost: 9.010519\n",
      "Epoch    7/40 Batch 2/3 Cost: 1.458086\n",
      "Epoch    7/40 Batch 3/3 Cost: 8.566269\n",
      "Epoch    8/40 Batch 1/3 Cost: 4.980536\n",
      "Epoch    8/40 Batch 2/3 Cost: 7.551781\n",
      "Epoch    8/40 Batch 3/3 Cost: 3.760887\n",
      "Epoch    9/40 Batch 1/3 Cost: 2.699415\n",
      "Epoch    9/40 Batch 2/3 Cost: 6.439922\n",
      "Epoch    9/40 Batch 3/3 Cost: 7.718386\n",
      "Epoch   10/40 Batch 1/3 Cost: 4.182676\n",
      "Epoch   10/40 Batch 2/3 Cost: 7.025432\n",
      "Epoch   10/40 Batch 3/3 Cost: 2.906043\n",
      "Epoch   11/40 Batch 1/3 Cost: 7.469727\n",
      "Epoch   11/40 Batch 2/3 Cost: 3.118569\n",
      "Epoch   11/40 Batch 3/3 Cost: 4.437369\n",
      "Epoch   12/40 Batch 1/3 Cost: 4.515931\n",
      "Epoch   12/40 Batch 2/3 Cost: 7.098941\n",
      "Epoch   12/40 Batch 3/3 Cost: 4.219045\n",
      "Epoch   13/40 Batch 1/3 Cost: 4.556367\n",
      "Epoch   13/40 Batch 2/3 Cost: 7.941597\n",
      "Epoch   13/40 Batch 3/3 Cost: 1.094223\n",
      "Epoch   14/40 Batch 1/3 Cost: 3.828247\n",
      "Epoch   14/40 Batch 2/3 Cost: 7.714523\n",
      "Epoch   14/40 Batch 3/3 Cost: 1.351491\n",
      "Epoch   15/40 Batch 1/3 Cost: 8.128876\n",
      "Epoch   15/40 Batch 2/3 Cost: 1.467003\n",
      "Epoch   15/40 Batch 3/3 Cost: 7.042700\n",
      "Epoch   16/40 Batch 1/3 Cost: 4.198976\n",
      "Epoch   16/40 Batch 2/3 Cost: 6.667592\n",
      "Epoch   16/40 Batch 3/3 Cost: 2.643998\n",
      "Epoch   17/40 Batch 1/3 Cost: 7.399920\n",
      "Epoch   17/40 Batch 2/3 Cost: 2.448455\n",
      "Epoch   17/40 Batch 3/3 Cost: 4.818727\n",
      "Epoch   18/40 Batch 1/3 Cost: 12.411672\n",
      "Epoch   18/40 Batch 2/3 Cost: 5.285611\n",
      "Epoch   18/40 Batch 3/3 Cost: 0.379979\n",
      "Epoch   19/40 Batch 1/3 Cost: 0.895945\n",
      "Epoch   19/40 Batch 2/3 Cost: 5.204494\n",
      "Epoch   19/40 Batch 3/3 Cost: 13.841928\n",
      "Epoch   20/40 Batch 1/3 Cost: 6.566581\n",
      "Epoch   20/40 Batch 2/3 Cost: 9.187897\n",
      "Epoch   20/40 Batch 3/3 Cost: 5.398305\n",
      "Epoch   21/40 Batch 1/3 Cost: 7.756410\n",
      "Epoch   21/40 Batch 2/3 Cost: 7.835663\n",
      "Epoch   21/40 Batch 3/3 Cost: 0.801360\n",
      "Epoch   22/40 Batch 1/3 Cost: 3.527799\n",
      "Epoch   22/40 Batch 2/3 Cost: 2.569045\n",
      "Epoch   22/40 Batch 3/3 Cost: 16.549313\n",
      "Epoch   23/40 Batch 1/3 Cost: 7.525229\n",
      "Epoch   23/40 Batch 2/3 Cost: 2.945211\n",
      "Epoch   23/40 Batch 3/3 Cost: 2.468758\n",
      "Epoch   24/40 Batch 1/3 Cost: 7.358173\n",
      "Epoch   24/40 Batch 2/3 Cost: 2.429917\n",
      "Epoch   24/40 Batch 3/3 Cost: 4.753433\n",
      "Epoch   25/40 Batch 1/3 Cost: 4.353488\n",
      "Epoch   25/40 Batch 2/3 Cost: 7.794776\n",
      "Epoch   25/40 Batch 3/3 Cost: 1.110307\n",
      "Epoch   26/40 Batch 1/3 Cost: 3.333733\n",
      "Epoch   26/40 Batch 2/3 Cost: 6.979844\n",
      "Epoch   26/40 Batch 3/3 Cost: 4.752435\n",
      "Epoch   27/40 Batch 1/3 Cost: 0.727045\n",
      "Epoch   27/40 Batch 2/3 Cost: 5.302886\n",
      "Epoch   27/40 Batch 3/3 Cost: 13.837728\n",
      "Epoch   28/40 Batch 1/3 Cost: 6.993478\n",
      "Epoch   28/40 Batch 2/3 Cost: 2.845970\n",
      "Epoch   28/40 Batch 3/3 Cost: 11.074994\n",
      "Epoch   29/40 Batch 1/3 Cost: 3.629335\n",
      "Epoch   29/40 Batch 2/3 Cost: 6.243048\n",
      "Epoch   29/40 Batch 3/3 Cost: 13.183029\n",
      "Epoch   30/40 Batch 1/3 Cost: 4.918339\n",
      "Epoch   30/40 Batch 2/3 Cost: 5.772686\n",
      "Epoch   30/40 Batch 3/3 Cost: 4.224939\n",
      "Epoch   31/40 Batch 1/3 Cost: 1.797435\n",
      "Epoch   31/40 Batch 2/3 Cost: 8.444525\n",
      "Epoch   31/40 Batch 3/3 Cost: 4.857256\n",
      "Epoch   32/40 Batch 1/3 Cost: 4.325533\n",
      "Epoch   32/40 Batch 2/3 Cost: 7.791798\n",
      "Epoch   32/40 Batch 3/3 Cost: 5.174556\n",
      "Epoch   33/40 Batch 1/3 Cost: 0.498677\n",
      "Epoch   33/40 Batch 2/3 Cost: 9.224742\n",
      "Epoch   33/40 Batch 3/3 Cost: 5.802676\n",
      "Epoch   34/40 Batch 1/3 Cost: 2.388952\n",
      "Epoch   34/40 Batch 2/3 Cost: 5.114717\n",
      "Epoch   34/40 Batch 3/3 Cost: 14.031275\n",
      "Epoch   35/40 Batch 1/3 Cost: 4.633472\n",
      "Epoch   35/40 Batch 2/3 Cost: 5.779130\n",
      "Epoch   35/40 Batch 3/3 Cost: 4.054076\n",
      "Epoch   36/40 Batch 1/3 Cost: 2.211652\n",
      "Epoch   36/40 Batch 2/3 Cost: 4.123284\n",
      "Epoch   36/40 Batch 3/3 Cost: 12.650887\n",
      "Epoch   37/40 Batch 1/3 Cost: 3.520633\n",
      "Epoch   37/40 Batch 2/3 Cost: 11.283604\n",
      "Epoch   37/40 Batch 3/3 Cost: 2.387255\n",
      "Epoch   38/40 Batch 1/3 Cost: 3.934227\n",
      "Epoch   38/40 Batch 2/3 Cost: 7.169094\n",
      "Epoch   38/40 Batch 3/3 Cost: 1.512364\n",
      "Epoch   39/40 Batch 1/3 Cost: 3.817634\n",
      "Epoch   39/40 Batch 2/3 Cost: 6.618301\n",
      "Epoch   39/40 Batch 3/3 Cost: 2.801139\n",
      "Epoch   40/40 Batch 1/3 Cost: 3.813724\n",
      "Epoch   40/40 Batch 2/3 Cost: 7.068725\n",
      "Epoch   40/40 Batch 3/3 Cost: 1.590510\n"
     ]
    }
   ],
   "source": [
    "nb_epochs = 40\n",
    "for epoch in range(nb_epochs + 1):\n",
    "  for batch_idx, samples in enumerate(dataloader):\n",
    "    # print(batch_idx)\n",
    "    # print(samples)\n",
    "    x_train, y_train = samples\n",
    "    # H(x) 계산\n",
    "    prediction = model(x_train)\n",
    "\n",
    "    # cost 계산\n",
    "    cost = F.mse_loss(prediction, y_train)\n",
    "\n",
    "    # cost로 H(x) 계산\n",
    "    optimizer.zero_grad()\n",
    "    cost.backward()\n",
    "    optimizer.step()\n",
    "\n",
    "    print('Epoch {:4d}/{} Batch {}/{} Cost: {:.6f}'.format(\n",
    "        epoch, nb_epochs, batch_idx+1, len(dataloader),\n",
    "        cost.item()\n",
    "        ))"
   ]
  },
  {
   "cell_type": "code",
   "execution_count": 9,
   "metadata": {},
   "outputs": [
    {
     "name": "stdout",
     "output_type": "stream",
     "text": [
      "훈련 후 입력이 73, 80, 75일 때의 예측값 : tensor([[153.1063]], grad_fn=<AddmmBackward>)\n"
     ]
    }
   ],
   "source": [
    "# 임의의 입력 [73, 80, 75]를 선언\n",
    "new_var =  torch.FloatTensor([[73, 80, 75]]) \n",
    "# 입력한 값 [73, 80, 75]에 대해서 예측값 y를 리턴받아서 pred_y에 저장\n",
    "pred_y = model(new_var) \n",
    "print(\"훈련 후 입력이 73, 80, 75일 때의 예측값 :\", pred_y) "
   ]
  },
  {
   "cell_type": "code",
   "execution_count": null,
   "metadata": {},
   "outputs": [],
   "source": []
  }
 ],
 "metadata": {
  "kernelspec": {
   "display_name": "Python 3",
   "language": "python",
   "name": "python3"
  },
  "language_info": {
   "codemirror_mode": {
    "name": "ipython",
    "version": 3
   },
   "file_extension": ".py",
   "mimetype": "text/x-python",
   "name": "python",
   "nbconvert_exporter": "python",
   "pygments_lexer": "ipython3",
   "version": "3.7.9"
  }
 },
 "nbformat": 4,
 "nbformat_minor": 4
}

{
 "cells": [
  {
   "cell_type": "code",
   "execution_count": 1,
   "metadata": {},
   "outputs": [],
   "source": [
    "import torch\n",
    "import torch.nn.functional as F"
   ]
  },
  {
   "cell_type": "code",
   "execution_count": 2,
   "metadata": {},
   "outputs": [],
   "source": [
    "from torch.utils.data import Dataset\n",
    "from torch.utils.data import DataLoader"
   ]
  },
  {
   "cell_type": "code",
   "execution_count": 3,
   "metadata": {},
   "outputs": [],
   "source": [
    "# Dataset 상속\n",
    "class CustomDataset(Dataset): \n",
    "  def __init__(self):\n",
    "    self.x_data = [[73, 80, 75],\n",
    "                   [93, 88, 93],\n",
    "                   [89, 91, 90],\n",
    "                   [96, 98, 100],\n",
    "                   [73, 66, 70]]\n",
    "    self.y_data = [[152], [185], [180], [196], [142]]\n",
    "\n",
    "  # 총 데이터의 개수를 리턴\n",
    "  def __len__(self): \n",
    "    return len(self.x_data)\n",
    "\n",
    "  # 인덱스를 입력받아 그에 맵핑되는 입출력 데이터를 파이토치의 Tensor 형태로 리턴\n",
    "  def __getitem__(self, idx): \n",
    "    x = torch.FloatTensor(self.x_data[idx])\n",
    "    y = torch.FloatTensor(self.y_data[idx])\n",
    "    return x, y"
   ]
  },
  {
   "cell_type": "code",
   "execution_count": 4,
   "metadata": {},
   "outputs": [],
   "source": [
    "dataset = CustomDataset()\n",
    "dataloader = DataLoader(dataset, batch_size=2, shuffle=True)"
   ]
  },
  {
   "cell_type": "code",
   "execution_count": 5,
   "metadata": {},
   "outputs": [],
   "source": [
    "model = torch.nn.Linear(3,1)\n",
    "optimizer = torch.optim.SGD(model.parameters(), lr=1e-5) "
   ]
  },
  {
   "cell_type": "code",
   "execution_count": 6,
   "metadata": {},
   "outputs": [
    {
     "name": "stdout",
     "output_type": "stream",
     "text": [
      "Epoch    0/20 Batch 1/3 Cost: 21983.371094\n",
      "Epoch    0/20 Batch 2/3 Cost: 8779.093750\n",
      "Epoch    0/20 Batch 3/3 Cost: 3605.896484\n",
      "Epoch    1/20 Batch 1/3 Cost: 622.603394\n",
      "Epoch    1/20 Batch 2/3 Cost: 161.003220\n",
      "Epoch    1/20 Batch 3/3 Cost: 102.568466\n",
      "Epoch    2/20 Batch 1/3 Cost: 43.488239\n",
      "Epoch    2/20 Batch 2/3 Cost: 2.639922\n",
      "Epoch    2/20 Batch 3/3 Cost: 0.065926\n",
      "Epoch    3/20 Batch 1/3 Cost: 7.589378\n",
      "Epoch    3/20 Batch 2/3 Cost: 12.561108\n",
      "Epoch    3/20 Batch 3/3 Cost: 4.688187\n",
      "Epoch    4/20 Batch 1/3 Cost: 13.709761\n",
      "Epoch    4/20 Batch 2/3 Cost: 3.724588\n",
      "Epoch    4/20 Batch 3/3 Cost: 7.696696\n",
      "Epoch    5/20 Batch 1/3 Cost: 7.126171\n",
      "Epoch    5/20 Batch 2/3 Cost: 2.067145\n",
      "Epoch    5/20 Batch 3/3 Cost: 28.958082\n",
      "Epoch    6/20 Batch 1/3 Cost: 7.802529\n",
      "Epoch    6/20 Batch 2/3 Cost: 16.345812\n",
      "Epoch    6/20 Batch 3/3 Cost: 8.776822\n",
      "Epoch    7/20 Batch 1/3 Cost: 13.111891\n",
      "Epoch    7/20 Batch 2/3 Cost: 3.456517\n",
      "Epoch    7/20 Batch 3/3 Cost: 5.471442\n",
      "Epoch    8/20 Batch 1/3 Cost: 1.855374\n",
      "Epoch    8/20 Batch 2/3 Cost: 7.139683\n",
      "Epoch    8/20 Batch 3/3 Cost: 23.625687\n",
      "Epoch    9/20 Batch 1/3 Cost: 13.527278\n",
      "Epoch    9/20 Batch 2/3 Cost: 6.107155\n",
      "Epoch    9/20 Batch 3/3 Cost: 6.602664\n",
      "Epoch   10/20 Batch 1/3 Cost: 11.133406\n",
      "Epoch   10/20 Batch 2/3 Cost: 11.841886\n",
      "Epoch   10/20 Batch 3/3 Cost: 4.565632\n",
      "Epoch   11/20 Batch 1/3 Cost: 6.445636\n",
      "Epoch   11/20 Batch 2/3 Cost: 19.573576\n",
      "Epoch   11/20 Batch 3/3 Cost: 1.687509\n",
      "Epoch   12/20 Batch 1/3 Cost: 1.486125\n",
      "Epoch   12/20 Batch 2/3 Cost: 6.774203\n",
      "Epoch   12/20 Batch 3/3 Cost: 23.487789\n",
      "Epoch   13/20 Batch 1/3 Cost: 3.633233\n",
      "Epoch   13/20 Batch 2/3 Cost: 13.039239\n",
      "Epoch   13/20 Batch 3/3 Cost: 6.883337\n",
      "Epoch   14/20 Batch 1/3 Cost: 3.660882\n",
      "Epoch   14/20 Batch 2/3 Cost: 6.731674\n",
      "Epoch   14/20 Batch 3/3 Cost: 22.010294\n",
      "Epoch   15/20 Batch 1/3 Cost: 13.671017\n",
      "Epoch   15/20 Batch 2/3 Cost: 3.291198\n",
      "Epoch   15/20 Batch 3/3 Cost: 7.214539\n",
      "Epoch   16/20 Batch 1/3 Cost: 14.463725\n",
      "Epoch   16/20 Batch 2/3 Cost: 7.566411\n",
      "Epoch   16/20 Batch 3/3 Cost: 6.295860\n",
      "Epoch   17/20 Batch 1/3 Cost: 15.155733\n",
      "Epoch   17/20 Batch 2/3 Cost: 6.014327\n",
      "Epoch   17/20 Batch 3/3 Cost: 0.789114\n",
      "Epoch   18/20 Batch 1/3 Cost: 1.080707\n",
      "Epoch   18/20 Batch 2/3 Cost: 6.960080\n",
      "Epoch   18/20 Batch 3/3 Cost: 23.729933\n",
      "Epoch   19/20 Batch 1/3 Cost: 13.321223\n",
      "Epoch   19/20 Batch 2/3 Cost: 3.204850\n",
      "Epoch   19/20 Batch 3/3 Cost: 6.912352\n",
      "Epoch   20/20 Batch 1/3 Cost: 1.826305\n",
      "Epoch   20/20 Batch 2/3 Cost: 18.368954\n",
      "Epoch   20/20 Batch 3/3 Cost: 11.805079\n"
     ]
    }
   ],
   "source": [
    "nb_epochs = 20\n",
    "for epoch in range(nb_epochs + 1):\n",
    "  for batch_idx, samples in enumerate(dataloader):\n",
    "    # print(batch_idx)\n",
    "    # print(samples)\n",
    "    x_train, y_train = samples\n",
    "    # H(x) 계산\n",
    "    prediction = model(x_train)\n",
    "\n",
    "    # cost 계산\n",
    "    cost = F.mse_loss(prediction, y_train)\n",
    "\n",
    "    # cost로 H(x) 계산\n",
    "    optimizer.zero_grad()\n",
    "    cost.backward()\n",
    "    optimizer.step()\n",
    "\n",
    "    print('Epoch {:4d}/{} Batch {}/{} Cost: {:.6f}'.format(\n",
    "        epoch, nb_epochs, batch_idx+1, len(dataloader),\n",
    "        cost.item()\n",
    "        ))"
   ]
  },
  {
   "cell_type": "code",
   "execution_count": null,
   "metadata": {},
   "outputs": [],
   "source": []
  },
  {
   "cell_type": "code",
   "execution_count": null,
   "metadata": {},
   "outputs": [],
   "source": []
  }
 ],
 "metadata": {
  "kernelspec": {
   "display_name": "Python 3",
   "language": "python",
   "name": "python3"
  },
  "language_info": {
   "codemirror_mode": {
    "name": "ipython",
    "version": 3
   },
   "file_extension": ".py",
   "mimetype": "text/x-python",
   "name": "python",
   "nbconvert_exporter": "python",
   "pygments_lexer": "ipython3",
   "version": "3.7.9"
  }
 },
 "nbformat": 4,
 "nbformat_minor": 4
}
